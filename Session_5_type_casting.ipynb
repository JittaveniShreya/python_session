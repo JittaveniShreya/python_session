{
 "cells": [
  {
   "cell_type": "markdown",
   "id": "56377b17-a18b-4882-95b6-40cfaad0d2ac",
   "metadata": {},
   "source": [
    "#typecasting\n",
    "- coverting one data to another datatype\n",
    "- we learned 4 Data Type\n",
    "    - Integer:int\n",
    "    - float:float\n",
    "    - booolean:bool\n",
    "    - string:str"
   ]
  },
  {
   "cell_type": "markdown",
   "id": "cc82c85a-ad97-4b3e-b0ef-d445db4e1ab4",
   "metadata": {},
   "source": [
    "**int to other DataTypes**"
   ]
  },
  {
   "cell_type": "code",
   "execution_count": 5,
   "id": "d6fc8bcc-8b2f-4ce6-aa5d-3a97ddc254c5",
   "metadata": {},
   "outputs": [
    {
     "data": {
      "text/plain": [
       "int"
      ]
     },
     "execution_count": 5,
     "metadata": {},
     "output_type": "execute_result"
    }
   ],
   "source": [
    "number=100\n",
    "type(number)"
   ]
  },
  {
   "cell_type": "code",
   "execution_count": 7,
   "id": "04d57852-1354-4e64-bf39-1fc22aae8c47",
   "metadata": {},
   "outputs": [
    {
     "data": {
      "text/plain": [
       "float"
      ]
     },
     "execution_count": 7,
     "metadata": {},
     "output_type": "execute_result"
    }
   ],
   "source": [
    "float_number=float(number)\n",
    "type(float_number)"
   ]
  },
  {
   "cell_type": "code",
   "execution_count": 9,
   "id": "293d6bf5-0d3a-4af1-853b-32f726ccd0c5",
   "metadata": {},
   "outputs": [
    {
     "data": {
      "text/plain": [
       "bool"
      ]
     },
     "execution_count": 9,
     "metadata": {},
     "output_type": "execute_result"
    }
   ],
   "source": [
    "bool_number=bool(number)\n",
    "type(bool_number)"
   ]
  },
  {
   "cell_type": "code",
   "execution_count": 11,
   "id": "2f9a4c54-8c62-4d0b-9c09-fddd297bb6c5",
   "metadata": {},
   "outputs": [
    {
     "data": {
      "text/plain": [
       "str"
      ]
     },
     "execution_count": 11,
     "metadata": {},
     "output_type": "execute_result"
    }
   ],
   "source": [
    "str_number=str(number)\n",
    "type(str_number)"
   ]
  },
  {
   "cell_type": "code",
   "execution_count": 15,
   "id": "292b3483-0655-4680-b03f-c10616adc59f",
   "metadata": {},
   "outputs": [
    {
     "data": {
      "text/plain": [
       "(100.0, True, '100')"
      ]
     },
     "execution_count": 15,
     "metadata": {},
     "output_type": "execute_result"
    }
   ],
   "source": [
    "float(100),bool(100),str(100)"
   ]
  },
  {
   "cell_type": "code",
   "execution_count": 27,
   "id": "66fe41af-65f6-43bb-8c8f-7aa08f06e54c",
   "metadata": {},
   "outputs": [
    {
     "name": "stdout",
     "output_type": "stream",
     "text": [
      "100.0\n",
      "True\n",
      "100\n"
     ]
    }
   ],
   "source": [
    "print(float(100))\n",
    "print(bool(100))\n",
    "print(str(100))"
   ]
  },
  {
   "cell_type": "code",
   "execution_count": 29,
   "id": "b11c1dad-2335-4731-8aeb-f038a8cb17de",
   "metadata": {},
   "outputs": [
    {
     "data": {
      "text/plain": [
       "'100'"
      ]
     },
     "execution_count": 29,
     "metadata": {},
     "output_type": "execute_result"
    }
   ],
   "source": [
    "float(100)\n",
    "bool(100)\n",
    "str(100)"
   ]
  },
  {
   "cell_type": "code",
   "execution_count": 35,
   "id": "97ba00fb-3c37-48ad-97fb-4ffc532bd187",
   "metadata": {},
   "outputs": [
    {
     "name": "stdout",
     "output_type": "stream",
     "text": [
      "-100.0\n",
      "False\n",
      "100\n"
     ]
    }
   ],
   "source": [
    "print(float(-100))\n",
    "print(bool(0))\n",
    "print(str(100))"
   ]
  },
  {
   "cell_type": "code",
   "execution_count": null,
   "id": "ac5333d9-e8e9-4007-abee-a735cf304dc5",
   "metadata": {},
   "outputs": [],
   "source": [
    "- Zero means off\n",
    "- false means off"
   ]
  },
  {
   "cell_type": "markdown",
   "id": "cdc18640-1057-4cd3-8850-4aa70f99fb50",
   "metadata": {},
   "source": [
    "**float to other data type**"
   ]
  },
  {
   "cell_type": "code",
   "execution_count": 38,
   "id": "6d7d4a1d-3ae7-4744-b222-a8013ae7dc7e",
   "metadata": {},
   "outputs": [
    {
     "data": {
      "text/plain": [
       "float"
      ]
     },
     "execution_count": 38,
     "metadata": {},
     "output_type": "execute_result"
    }
   ],
   "source": [
    "number=10.5\n",
    "type(number)"
   ]
  },
  {
   "cell_type": "code",
   "execution_count": 40,
   "id": "9b13eda0-18e4-4ead-9349-05221fe266b1",
   "metadata": {},
   "outputs": [
    {
     "data": {
      "text/plain": [
       "int"
      ]
     },
     "execution_count": 40,
     "metadata": {},
     "output_type": "execute_result"
    }
   ],
   "source": [
    "int_number=int(number)\n",
    "type(int_number)"
   ]
  },
  {
   "cell_type": "code",
   "execution_count": 42,
   "id": "d866ee6e-7382-407d-9631-9dcd62cc10e0",
   "metadata": {},
   "outputs": [
    {
     "data": {
      "text/plain": [
       "10"
      ]
     },
     "execution_count": 42,
     "metadata": {},
     "output_type": "execute_result"
    }
   ],
   "source": [
    "int(number)"
   ]
  },
  {
   "cell_type": "code",
   "execution_count": 44,
   "id": "58ca80f5-0eb8-4ebe-94b2-cd2db3f23e53",
   "metadata": {},
   "outputs": [
    {
     "data": {
      "text/plain": [
       "bool"
      ]
     },
     "execution_count": 44,
     "metadata": {},
     "output_type": "execute_result"
    }
   ],
   "source": [
    "bool_number=bool(number)\n",
    "type(bool_number)"
   ]
  },
  {
   "cell_type": "raw",
   "id": "d5213901-8203-4548-9729-823e379e79a2",
   "metadata": {},
   "source": [
    "str_number=str(number)\n",
    "type(str)"
   ]
  },
  {
   "cell_type": "code",
   "execution_count": 46,
   "id": "5264a634-02f1-4101-903a-03d3ea4d2c04",
   "metadata": {},
   "outputs": [
    {
     "name": "stdout",
     "output_type": "stream",
     "text": [
      "10\n",
      "True\n",
      "10.5\n"
     ]
    }
   ],
   "source": [
    "n1=int(10.5)\n",
    "n2=bool(10.5)\n",
    "n3=str(10.5)\n",
    "print(n1)\n",
    "print(n2)\n",
    "print(n3)"
   ]
  },
  {
   "cell_type": "code",
   "execution_count": 48,
   "id": "be0e266d-c6a0-461a-945c-d47812ae76a0",
   "metadata": {},
   "outputs": [
    {
     "name": "stdout",
     "output_type": "stream",
     "text": [
      "0\n",
      "True\n",
      "0.5\n"
     ]
    }
   ],
   "source": [
    "n1=int(0.5)\n",
    "n2=bool(0.5)\n",
    "n3=str(0.5)\n",
    "print(n1)\n",
    "print(n2)\n",
    "print(n3)"
   ]
  },
  {
   "cell_type": "markdown",
   "id": "8346d116-cf0c-49bb-ad99-373127aa680e",
   "metadata": {},
   "source": [
    "**string to other datatypes**"
   ]
  },
  {
   "cell_type": "code",
   "execution_count": null,
   "id": "40f17181-0dcf-4aae-9236-d88165d0a493",
   "metadata": {},
   "outputs": [],
   "source": [
    "int('apple') #f\n",
    "float('apple') #f\n",
    "bool('apple') #w"
   ]
  },
  {
   "cell_type": "code",
   "execution_count": 51,
   "id": "e67970a0-f2b7-47ad-b6b7-053d6b501252",
   "metadata": {},
   "outputs": [
    {
     "data": {
      "text/plain": [
       "True"
      ]
     },
     "execution_count": 51,
     "metadata": {},
     "output_type": "execute_result"
    }
   ],
   "source": [
    "bool('apple')"
   ]
  },
  {
   "cell_type": "code",
   "execution_count": 53,
   "id": "dcab0565-8ebf-47bd-b609-795055da21e1",
   "metadata": {},
   "outputs": [
    {
     "data": {
      "text/plain": [
       "False"
      ]
     },
     "execution_count": 53,
     "metadata": {},
     "output_type": "execute_result"
    }
   ],
   "source": [
    "bool('')"
   ]
  },
  {
   "cell_type": "code",
   "execution_count": 59,
   "id": "67a38d2d-6a53-4fc7-953a-d610c9c5b7a5",
   "metadata": {},
   "outputs": [
    {
     "name": "stdout",
     "output_type": "stream",
     "text": [
      "5\n",
      "1\n",
      "0\n"
     ]
    }
   ],
   "source": [
    "print(len('apple'))\n",
    "print(len('0'))\n",
    "print(len(''))"
   ]
  },
  {
   "cell_type": "markdown",
   "id": "f6cb91b3-36e8-49fd-80db-7218229d0de4",
   "metadata": {},
   "source": [
    "- for number 0 and 0.0 boolean coversion gives **False**\n",
    "- for strings empty boolean coversion gives **False**"
   ]
  },
  {
   "cell_type": "code",
   "execution_count": 72,
   "id": "22b11188-6eac-437b-b3e5-7ce426c49563",
   "metadata": {},
   "outputs": [
    {
     "name": "stdout",
     "output_type": "stream",
     "text": [
      "10\n",
      "10.0\n",
      "True\n"
     ]
    }
   ],
   "source": [
    "print(int('10'))\n",
    "print(float('10'))\n",
    "print(bool('10'))\n"
   ]
  },
  {
   "cell_type": "markdown",
   "id": "6d170df4-bdc6-41d6-840e-613a6a6ec58d",
   "metadata": {},
   "source": [
    "**str object not callable**\n",
    "- python magic\n",
    "- we need to open new note book or we should go to kernel and restart"
   ]
  },
  {
   "cell_type": "code",
   "execution_count": null,
   "id": "31147c4f-0c06-4f96-8448-403e57354ba3",
   "metadata": {},
   "outputs": [],
   "source": [
    "float('10.5')#w\n",
    "bool('10.5')#w\n",
    "int('10.5')#fail"
   ]
  },
  {
   "cell_type": "markdown",
   "id": "9743dee4-e9dc-489a-a390-ca442faee1e5",
   "metadata": {},
   "source": [
    " **float is the boss**\n",
    " float ('10')#w\n",
    "float ('10.5')#w\n",
    "\n",
    "int('10')#w\n",
    "int('10.5')#f"
   ]
  },
  {
   "cell_type": "markdown",
   "id": "53405622-68f0-45af-8cd3-2b3dca839c95",
   "metadata": {},
   "source": [
    "**boolean to other datatype**"
   ]
  },
  {
   "cell_type": "code",
   "execution_count": 75,
   "id": "fdcf7b47-cdd9-4d8b-a785-7e143769f9b1",
   "metadata": {},
   "outputs": [
    {
     "data": {
      "text/plain": [
       "(1, 1.0, 'True', 0, 0.0, 'False')"
      ]
     },
     "execution_count": 75,
     "metadata": {},
     "output_type": "execute_result"
    }
   ],
   "source": [
    "int(True),float(True),str(True),int(False),float(False),str(False)"
   ]
  },
  {
   "cell_type": "code",
   "execution_count": null,
   "id": "052c49c9-7454-4d46-8c2f-dce2e5e7af9d",
   "metadata": {},
   "outputs": [],
   "source": [
    "float(10)\n",
    "str(10)\n",
    "bool(10)\n",
    "int(10.5)\n",
    "str(10.5)\n",
    "bool(10.5)\n",
    "int('xyz')\n",
    "float('xyz')\n",
    "bool('xyz')\n",
    "int(True)\n",
    "int(False)\n",
    "float(True)\n",
    "float(False)\n",
    "str(True)\n",
    "str(False)\n",
    "bool(0)\n",
    "bool(0.0)\n",
    "bool('')"
   ]
  }
 ],
 "metadata": {
  "kernelspec": {
   "display_name": "Python [conda env:base] *",
   "language": "python",
   "name": "conda-base-py"
  },
  "language_info": {
   "codemirror_mode": {
    "name": "ipython",
    "version": 3
   },
   "file_extension": ".py",
   "mimetype": "text/x-python",
   "name": "python",
   "nbconvert_exporter": "python",
   "pygments_lexer": "ipython3",
   "version": "3.12.7"
  }
 },
 "nbformat": 4,
 "nbformat_minor": 5
}

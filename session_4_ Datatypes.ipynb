{
 "cells": [
  {
   "cell_type": "markdown",
   "id": "3f26f990-5d19-4830-bbf1-96e026644762",
   "metadata": {},
   "source": [
    "# Data Type"
   ]
  },
  {
   "cell_type": "markdown",
   "id": "16433bb0-8ebe-47f0-aacd-5f69fd7dd86d",
   "metadata": {},
   "source": [
    "- int\n",
    "- float\n",
    "- string\n",
    "- list\n",
    "- tuple\n",
    "- set\n",
    "     - frozen set\n",
    "- dictionary\n",
    "- boolean\n",
    "- complex\n",
    "- range\n",
    "- byte\n",
    "- bye array\n",
    "- memory view\n",
    "- none type"
   ]
  },
  {
   "cell_type": "markdown",
   "id": "ff3b51c3-903c-4465-8e25-647664fc7004",
   "metadata": {},
   "source": [
    "$Integer$"
   ]
  },
  {
   "cell_type": "code",
   "execution_count": 9,
   "id": "bffce5a7-e2e8-4f57-9d37-65aabd619867",
   "metadata": {},
   "outputs": [
    {
     "data": {
      "text/plain": [
       "100"
      ]
     },
     "execution_count": 9,
     "metadata": {},
     "output_type": "execute_result"
    }
   ],
   "source": [
    "number=100\n",
    "number"
   ]
  },
  {
   "cell_type": "code",
   "execution_count": 13,
   "id": "fd14423f-5e22-43f2-9105-c9533a59b3aa",
   "metadata": {},
   "outputs": [
    {
     "data": {
      "text/plain": [
       "int"
      ]
     },
     "execution_count": 13,
     "metadata": {},
     "output_type": "execute_result"
    }
   ],
   "source": [
    "type(number)"
   ]
  },
  {
   "cell_type": "markdown",
   "id": "519f1e96-a66c-4e06-910c-fca552d01899",
   "metadata": {},
   "source": [
    "**Number System**\n",
    "- Binary numbersystem\n",
    "- Dcimal numbersystem\n",
    "- Octal numbersystem\n",
    "- Hexa  numbersystem"
   ]
  },
  {
   "cell_type": "markdown",
   "id": "5de36e14-0f5f-4d9c-8e29-3d3bd67cb205",
   "metadata": {},
   "source": [
    "**Binary Number System**\n",
    "- It is denoted with **0b** or **0B**\n",
    "- Binary means two\n",
    "- we have generally 0-9 digits available\n",
    "- binary means only two digits allowed:0&1\n",
    "- ex:0b101 0b111 0b000 0B001\n",
    "- not valid :0b123 0B10032"
   ]
  },
  {
   "cell_type": "code",
   "execution_count": 17,
   "id": "19c358b5-efd5-4adf-8b33-0c1a1aa5b0be",
   "metadata": {},
   "outputs": [
    {
     "data": {
      "text/plain": [
       "3"
      ]
     },
     "execution_count": 17,
     "metadata": {},
     "output_type": "execute_result"
    }
   ],
   "source": [
    "0b0011"
   ]
  },
  {
   "cell_type": "code",
   "execution_count": 19,
   "id": "248300bd-4db0-4141-96bb-5b785303cb8c",
   "metadata": {},
   "outputs": [
    {
     "data": {
      "text/plain": [
       "29"
      ]
     },
     "execution_count": 19,
     "metadata": {},
     "output_type": "execute_result"
    }
   ],
   "source": [
    "0b11101"
   ]
  },
  {
   "cell_type": "markdown",
   "id": "14ebf83c-cddd-44da-a618-e2366f906eca",
   "metadata": {},
   "source": [
    "**Boolean**"
   ]
  },
  {
   "cell_type": "code",
   "execution_count": 2,
   "id": "bba70f18-0408-4559-8739-e1e847eaf2f4",
   "metadata": {},
   "outputs": [
    {
     "data": {
      "text/plain": [
       "True"
      ]
     },
     "execution_count": 2,
     "metadata": {},
     "output_type": "execute_result"
    }
   ],
   "source": [
    "val=True\n",
    "val\n"
   ]
  },
  {
   "cell_type": "code",
   "execution_count": 4,
   "id": "266f1f56-4ac1-4534-9ef1-3b7a6f780d8f",
   "metadata": {},
   "outputs": [
    {
     "data": {
      "text/plain": [
       "bool"
      ]
     },
     "execution_count": 4,
     "metadata": {},
     "output_type": "execute_result"
    }
   ],
   "source": [
    "type(val)"
   ]
  },
  {
   "cell_type": "code",
   "execution_count": 6,
   "id": "dd17bffe-64a3-4c63-a1b7-f86751cac841",
   "metadata": {},
   "outputs": [
    {
     "data": {
      "text/plain": [
       "bool"
      ]
     },
     "execution_count": 6,
     "metadata": {},
     "output_type": "execute_result"
    }
   ],
   "source": [
    "val1=False\n",
    "type(val1)"
   ]
  },
  {
   "cell_type": "markdown",
   "id": "ba9311e1-3c4c-4835-8f2a-384783de2eaf",
   "metadata": {},
   "source": [
    "**Strings**"
   ]
  },
  {
   "cell_type": "markdown",
   "id": "b3697b00-d966-47ed-ada4-c6cac5e9bc39",
   "metadata": {},
   "source": [
    "- English format representaion\n",
    "- string represented with quotes\n",
    "- we can use single,double,triple quotes"
   ]
  },
  {
   "cell_type": "code",
   "execution_count": 10,
   "id": "787b18f9-1fb8-4f67-9fc1-67110a8c958a",
   "metadata": {},
   "outputs": [
    {
     "data": {
      "text/plain": [
       "'python'"
      ]
     },
     "execution_count": 10,
     "metadata": {},
     "output_type": "execute_result"
    }
   ],
   "source": [
    "name='python'\n",
    "name"
   ]
  },
  {
   "cell_type": "code",
   "execution_count": 12,
   "id": "ab056380-fdea-4978-b23e-608b8be12c69",
   "metadata": {},
   "outputs": [
    {
     "data": {
      "text/plain": [
       "str"
      ]
     },
     "execution_count": 12,
     "metadata": {},
     "output_type": "execute_result"
    }
   ],
   "source": [
    "type(name)"
   ]
  },
  {
   "cell_type": "code",
   "execution_count": 14,
   "id": "3d59a821-73df-4884-a904-c7eb10b70367",
   "metadata": {},
   "outputs": [
    {
     "name": "stdout",
     "output_type": "stream",
     "text": [
      "python\n"
     ]
    }
   ],
   "source": [
    "print(name)\n",
    "#when we print we will not able to see the quotes"
   ]
  },
  {
   "cell_type": "code",
   "execution_count": 16,
   "id": "75c9b21e-f3ac-4733-b74a-fa7b12d24e6c",
   "metadata": {},
   "outputs": [
    {
     "data": {
      "text/plain": [
       "str"
      ]
     },
     "execution_count": 16,
     "metadata": {},
     "output_type": "execute_result"
    }
   ],
   "source": [
    "val='10'\n",
    "type(val)"
   ]
  },
  {
   "cell_type": "code",
   "execution_count": 18,
   "id": "4d1b4838-8de1-4038-9828-aa69a8fc7f4a",
   "metadata": {},
   "outputs": [
    {
     "data": {
      "text/plain": [
       "int"
      ]
     },
     "execution_count": 18,
     "metadata": {},
     "output_type": "execute_result"
    }
   ],
   "source": [
    "val1=10\n",
    "type(val1)"
   ]
  },
  {
   "cell_type": "code",
   "execution_count": 26,
   "id": "9036cf65-023f-4665-94f8-d74eeebe4129",
   "metadata": {},
   "outputs": [
    {
     "data": {
      "text/plain": [
       "'Naresh It'"
      ]
     },
     "execution_count": 26,
     "metadata": {},
     "output_type": "execute_result"
    }
   ],
   "source": [
    "name=\"Naresh It\"\n",
    "name\n",
    "# the output diplays in single quote"
   ]
  },
  {
   "cell_type": "code",
   "execution_count": 28,
   "id": "c2cc7b54-5fc6-48b9-a4e6-2b892651f6f7",
   "metadata": {},
   "outputs": [
    {
     "data": {
      "text/plain": [
       "str"
      ]
     },
     "execution_count": 28,
     "metadata": {},
     "output_type": "execute_result"
    }
   ],
   "source": [
    "type(name)"
   ]
  },
  {
   "cell_type": "code",
   "execution_count": 30,
   "id": "9e3c2d40-6895-4ab9-9bee-e5ec451a944c",
   "metadata": {},
   "outputs": [
    {
     "name": "stdout",
     "output_type": "stream",
     "text": [
      "Naresh It\n"
     ]
    }
   ],
   "source": [
    "print(name)"
   ]
  },
  {
   "cell_type": "code",
   "execution_count": 41,
   "id": "ddc1357d-5048-473c-bed3-1b44a4effcb4",
   "metadata": {},
   "outputs": [
    {
     "name": "stdout",
     "output_type": "stream",
     "text": [
      "i love 'python'\n"
     ]
    }
   ],
   "source": [
    "str1=\"i love 'python'\"\n",
    "print(str1)"
   ]
  },
  {
   "cell_type": "code",
   "execution_count": 43,
   "id": "dd3a0f87-bb73-41fa-a998-bd52244a17a6",
   "metadata": {},
   "outputs": [
    {
     "name": "stdout",
     "output_type": "stream",
     "text": [
      "i love \"python\"\n"
     ]
    }
   ],
   "source": [
    "str='i love \"python\"'\n",
    "print(str)"
   ]
  },
  {
   "cell_type": "markdown",
   "id": "e5914709-c553-410c-81e3-03f800f88574",
   "metadata": {},
   "source": [
    "- keep entire string in double quotes then highlight the word with single quote vice versa"
   ]
  },
  {
   "cell_type": "markdown",
   "id": "5c32a003-acdd-4938-80ac-a989ef873bad",
   "metadata": {},
   "source": [
    "**triple Quotes**\n",
    "- triple quotes cannot use in coding part\n",
    "- triple quotes means conveying info\n",
    "- this process is known as **Doc string**\n",
    "-  in jupyter notebook we have markdown optn\n",
    "-  but in vscode or pycharm there is no markdown optn\n",
    "-  so user will convey the info with triple quotes"
   ]
  },
  {
   "cell_type": "code",
   "execution_count": null,
   "id": "64dfc0ec-28d6-4be9-9a82-188ac686487e",
   "metadata": {},
   "outputs": [],
   "source": [
    "true=True     #w\n",
    "true='True'   #w\n",
    "true=10.3     #w\n",
    "True=10       #f \n",
    "True=True     #f"
   ]
  },
  {
   "cell_type": "code",
   "execution_count": null,
   "id": "51cb8b75-8627-4a27-b2b5-e741e257e2d9",
   "metadata": {},
   "outputs": [],
   "source": []
  }
 ],
 "metadata": {
  "kernelspec": {
   "display_name": "Python [conda env:base] *",
   "language": "python",
   "name": "conda-base-py"
  },
  "language_info": {
   "codemirror_mode": {
    "name": "ipython",
    "version": 3
   },
   "file_extension": ".py",
   "mimetype": "text/x-python",
   "name": "python",
   "nbconvert_exporter": "python",
   "pygments_lexer": "ipython3",
   "version": "3.12.7"
  }
 },
 "nbformat": 4,
 "nbformat_minor": 5
}

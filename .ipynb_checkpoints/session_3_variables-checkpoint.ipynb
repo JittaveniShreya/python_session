{
 "cells": [
  {
   "cell_type": "markdown",
   "id": "6856b99f-857a-4817-9ada-d9d4011fc085",
   "metadata": {},
   "source": [
    "# Variables "
   ]
  },
  {
   "cell_type": "markdown",
   "id": "b1100565-ab64-449a-818f-c386dc80d3f9",
   "metadata": {},
   "source": [
    "- Variables are used to store the data\n",
    "- The can be change\n",
    "- These Variavles can be use to manipulate python code"
   ]
  },
  {
   "cell_type": "code",
   "execution_count": 8,
   "id": "4f9016d6-8d6b-47a5-8bdb-2203c86858e4",
   "metadata": {},
   "outputs": [
    {
     "data": {
      "text/plain": [
       "100"
      ]
     },
     "execution_count": 8,
     "metadata": {},
     "output_type": "execute_result"
    }
   ],
   "source": [
    "number = 100\n",
    "#100 is stored in a variable called as number\n",
    "number "
   ]
  },
  {
   "cell_type": "code",
   "execution_count": 1,
   "id": "27775df0-49e1-4ad9-8a2d-7a07cd046f0a",
   "metadata": {},
   "outputs": [
    {
     "ename": "NameError",
     "evalue": "name 'number' is not defined",
     "output_type": "error",
     "traceback": [
      "\u001b[1;31m---------------------------------------------------------------------------\u001b[0m",
      "\u001b[1;31mNameError\u001b[0m                                 Traceback (most recent call last)",
      "Cell \u001b[1;32mIn[1], line 2\u001b[0m\n\u001b[0;32m      1\u001b[0m NUMBER\u001b[38;5;241m=\u001b[39m\u001b[38;5;241m200\u001b[39m\n\u001b[1;32m----> 2\u001b[0m number\n",
      "\u001b[1;31mNameError\u001b[0m: name 'number' is not defined"
     ]
    }
   ],
   "source": [
    "NUMBER=200\n",
    "number"
   ]
  },
  {
   "cell_type": "code",
   "execution_count": 10,
   "id": "f4e325c9-63bb-4c86-94ae-6c534ba108ce",
   "metadata": {},
   "outputs": [
    {
     "data": {
      "text/plain": [
       "200"
      ]
     },
     "execution_count": 10,
     "metadata": {},
     "output_type": "execute_result"
    }
   ],
   "source": [
    "NUMBER=200\n",
    "NUMBER"
   ]
  },
  {
   "cell_type": "code",
   "execution_count": 12,
   "id": "9ae793fb-1d54-418a-8719-4e1eff2ea51b",
   "metadata": {},
   "outputs": [
    {
     "data": {
      "text/plain": [
       "(100, 200)"
      ]
     },
     "execution_count": 12,
     "metadata": {},
     "output_type": "execute_result"
    }
   ],
   "source": [
    "number,NUMBER\n"
   ]
  },
  {
   "cell_type": "code",
   "execution_count": 14,
   "id": "268cc29b-7e7f-40fd-bf13-89daae763c0e",
   "metadata": {},
   "outputs": [
    {
     "data": {
      "text/plain": [
       "300"
      ]
     },
     "execution_count": 14,
     "metadata": {},
     "output_type": "execute_result"
    }
   ],
   "source": [
    "NUMber=300\n",
    "NUMber"
   ]
  },
  {
   "cell_type": "code",
   "execution_count": 16,
   "id": "0c3d2813-2dba-45f1-8b7f-850e44175541",
   "metadata": {},
   "outputs": [
    {
     "data": {
      "text/plain": [
       "(100, 200, 300)"
      ]
     },
     "execution_count": 16,
     "metadata": {},
     "output_type": "execute_result"
    }
   ],
   "source": [
    "number,NUMBER,NUMber\n"
   ]
  },
  {
   "cell_type": "code",
   "execution_count": 18,
   "id": "09250bf4-6526-4251-a313-4658229b7105",
   "metadata": {},
   "outputs": [
    {
     "data": {
      "text/plain": [
       "400"
      ]
     },
     "execution_count": 18,
     "metadata": {},
     "output_type": "execute_result"
    }
   ],
   "source": [
    "number123=400\n",
    "number123\n"
   ]
  },
  {
   "cell_type": "code",
   "execution_count": 20,
   "id": "03f6ee4a-964c-4385-9fba-5fa46fc98f79",
   "metadata": {},
   "outputs": [
    {
     "ename": "SyntaxError",
     "evalue": "invalid decimal literal (3020286301.py, line 1)",
     "output_type": "error",
     "traceback": [
      "\u001b[1;36m  Cell \u001b[1;32mIn[20], line 1\u001b[1;36m\u001b[0m\n\u001b[1;33m    123number=200\u001b[0m\n\u001b[1;37m      ^\u001b[0m\n\u001b[1;31mSyntaxError\u001b[0m\u001b[1;31m:\u001b[0m invalid decimal literal\n"
     ]
    }
   ],
   "source": [
    "123number=200\n",
    "123number"
   ]
  },
  {
   "cell_type": "markdown",
   "id": "59c773f9-a7b6-4ec6-b4e4-e86e2f8db8bb",
   "metadata": {},
   "source": [
    "** NOTE**:\n",
    "- Variables generallyin black color\n",
    "- green color should not be a variables\n",
    "- number as suffix can work \n",
    "- number as prefix fails"
   ]
  },
  {
   "cell_type": "code",
   "execution_count": 25,
   "id": "f3dd6c8e-bbe0-4b6d-bd09-068c6a218685",
   "metadata": {},
   "outputs": [
    {
     "ename": "SyntaxError",
     "evalue": "invalid syntax (805837323.py, line 1)",
     "output_type": "error",
     "traceback": [
      "\u001b[1;36m  Cell \u001b[1;32mIn[25], line 1\u001b[1;36m\u001b[0m\n\u001b[1;33m    number$=600\u001b[0m\n\u001b[1;37m          ^\u001b[0m\n\u001b[1;31mSyntaxError\u001b[0m\u001b[1;31m:\u001b[0m invalid syntax\n"
     ]
    }
   ],
   "source": [
    "number$=600\n",
    "number$"
   ]
  },
  {
   "cell_type": "markdown",
   "id": "14dadfca-7f18-4fb7-a988-685ebff2430c",
   "metadata": {},
   "source": [
    "- special characters doesnot allowed \n",
    "special characters are $,Space but underscore can allowed"
   ]
  },
  {
   "cell_type": "code",
   "execution_count": 29,
   "id": "90f2149d-afd5-4af9-83db-57130f0a58ef",
   "metadata": {},
   "outputs": [
    {
     "data": {
      "text/plain": [
       "800"
      ]
     },
     "execution_count": 29,
     "metadata": {},
     "output_type": "execute_result"
    }
   ],
   "source": [
    "number_one=800\n",
    "number_one"
   ]
  },
  {
   "cell_type": "code",
   "execution_count": 32,
   "id": "f056556c-1a93-4766-83b7-6b817910368f",
   "metadata": {},
   "outputs": [
    {
     "data": {
      "text/plain": [
       "100"
      ]
     },
     "execution_count": 32,
     "metadata": {},
     "output_type": "execute_result"
    }
   ],
   "source": [
    "_=100\n",
    "_ "
   ]
  },
  {
   "cell_type": "code",
   "execution_count": 34,
   "id": "a4918c7b-6981-4515-809d-12d85a5e93d7",
   "metadata": {},
   "outputs": [
    {
     "ename": "SyntaxError",
     "evalue": "invalid syntax (3715871931.py, line 1)",
     "output_type": "error",
     "traceback": [
      "\u001b[1;36m  Cell \u001b[1;32mIn[34], line 1\u001b[1;36m\u001b[0m\n\u001b[1;33m    if=1000\u001b[0m\n\u001b[1;37m      ^\u001b[0m\n\u001b[1;31mSyntaxError\u001b[0m\u001b[1;31m:\u001b[0m invalid syntax\n"
     ]
    }
   ],
   "source": [
    "if=1000\n",
    "if"
   ]
  },
  {
   "cell_type": "markdown",
   "id": "3380f79d-d748-4735-83c1-b69a4ba30882",
   "metadata": {},
   "source": [
    "**Key Words cannot use as variables**"
   ]
  }
 ],
 "metadata": {
  "kernelspec": {
   "display_name": "Python [conda env:base] *",
   "language": "python",
   "name": "conda-base-py"
  },
  "language_info": {
   "codemirror_mode": {
    "name": "ipython",
    "version": 3
   },
   "file_extension": ".py",
   "mimetype": "text/x-python",
   "name": "python",
   "nbconvert_exporter": "python",
   "pygments_lexer": "ipython3",
   "version": "3.12.7"
  }
 },
 "nbformat": 4,
 "nbformat_minor": 5
}

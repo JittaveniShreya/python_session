{
 "cells": [
  {
   "cell_type": "code",
   "execution_count": 49,
   "id": "255edbbb-28ff-412c-8d30-60ac84235e4f",
   "metadata": {},
   "outputs": [
    {
     "data": {
      "text/plain": [
       "20"
      ]
     },
     "execution_count": 49,
     "metadata": {},
     "output_type": "execute_result"
    }
   ],
   "source": [
    "a=10\n",
    "b=20\n",
    "a\n",
    "b"
   ]
  },
  {
   "cell_type": "code",
   "execution_count": 13,
   "id": "8e01980c-1e89-47f8-8d55-ac8b3a5574e0",
   "metadata": {},
   "outputs": [
    {
     "name": "stdout",
     "output_type": "stream",
     "text": [
      "10\n",
      "20\n"
     ]
    }
   ],
   "source": [
    "a=10\n",
    "b=20\n",
    "print(a)\n",
    "print(b)"
   ]
  },
  {
   "cell_type": "code",
   "execution_count": 7,
   "id": "4b54fd48-d2db-4e00-98ac-7e3c2d8af459",
   "metadata": {},
   "outputs": [
    {
     "name": "stdout",
     "output_type": "stream",
     "text": [
      "10\n",
      "20\n"
     ]
    }
   ],
   "source": [
    "print(a)\n",
    "print(b)"
   ]
  },
  {
   "cell_type": "code",
   "execution_count": 9,
   "id": "c60b41e6-6633-4076-8d6b-e4458528ea31",
   "metadata": {},
   "outputs": [
    {
     "name": "stdout",
     "output_type": "stream",
     "text": [
      "10\n",
      "20\n"
     ]
    },
    {
     "data": {
      "text/plain": [
       "(None, None)"
      ]
     },
     "execution_count": 9,
     "metadata": {},
     "output_type": "execute_result"
    }
   ],
   "source": [
    "print(a),print(b)"
   ]
  },
  {
   "cell_type": "code",
   "execution_count": 11,
   "id": "e75d0e03-1e2b-4749-ba55-d336bd271347",
   "metadata": {},
   "outputs": [
    {
     "data": {
      "text/plain": [
       "(10, 20)"
      ]
     },
     "execution_count": 11,
     "metadata": {},
     "output_type": "execute_result"
    }
   ],
   "source": [
    "10,20"
   ]
  },
  {
   "cell_type": "code",
   "execution_count": 15,
   "id": "adc07727-6e0f-4b71-b6f3-94b5ef9676c1",
   "metadata": {},
   "outputs": [
    {
     "name": "stdout",
     "output_type": "stream",
     "text": [
      "10 20\n"
     ]
    }
   ],
   "source": [
    "print(a,b)"
   ]
  },
  {
   "cell_type": "code",
   "execution_count": 17,
   "id": "48a5138e-13d0-4911-bac2-da937684df2b",
   "metadata": {},
   "outputs": [
    {
     "name": "stdout",
     "output_type": "stream",
     "text": [
      "30 xyz Hyd\n"
     ]
    }
   ],
   "source": [
    "print(30,'xyz', 'Hyd')"
   ]
  },
  {
   "cell_type": "code",
   "execution_count": 25,
   "id": "3817a8af-25a8-434a-a1f9-7fcefff9e0e9",
   "metadata": {},
   "outputs": [
    {
     "name": "stdout",
     "output_type": "stream",
     "text": [
      "the addition of 100 and 200 is 300\n",
      "the addition of num1 and num2 is 300\n",
      "the addition of 100 and 200 is 300\n"
     ]
    }
   ],
   "source": [
    "num1=100\n",
    "num2=200\n",
    "add=num1+num2\n",
    "#the addition of 100 and 200 is 300\n",
    "print(\"the addition of 100 and 200 is 300\")\n",
    "print(\"the addition of num1 and num2 is 300\")\n",
    "print(\"the addition of\",num1,\"and\",num2,\"is\",add)"
   ]
  },
  {
   "cell_type": "code",
   "execution_count": 27,
   "id": "9533be05-ed53-4625-9de2-bb71abe37215",
   "metadata": {},
   "outputs": [
    {
     "name": "stdout",
     "output_type": "stream",
     "text": [
      "my name is python im 10 years old and came from hyd\n"
     ]
    }
   ],
   "source": [
    "name=\"python\"\n",
    "age=10\n",
    "city=\"hyd\"\n",
    "#my name is python im 10 years old and came from hyd\n",
    "print(\"my name is\" ,name,\"im\",age,\"years old and came from\",city)"
   ]
  },
  {
   "cell_type": "markdown",
   "id": "34766eda-4c5e-4bb1-a121-8646825bf668",
   "metadata": {},
   "source": [
    "**format Method**"
   ]
  },
  {
   "cell_type": "code",
   "execution_count": 34,
   "id": "89352238-6a3e-41b6-8962-fe050a96c103",
   "metadata": {},
   "outputs": [
    {
     "name": "stdout",
     "output_type": "stream",
     "text": [
      "my name is python im 10 years old and came from hyd\n"
     ]
    }
   ],
   "source": [
    "name=\"python\"\n",
    "age=10\n",
    "city=\"hyd\"\n",
    "print(\"my name is {} im {} years old and came from {}\".format(name,age,city))"
   ]
  },
  {
   "cell_type": "code",
   "execution_count": 38,
   "id": "39205056-eab7-4ec7-a88e-8f9f0807b70b",
   "metadata": {},
   "outputs": [
    {
     "name": "stdout",
     "output_type": "stream",
     "text": [
      "the addition of 100 and 200 is 300\n"
     ]
    }
   ],
   "source": [
    "num1=100\n",
    "num2=200\n",
    "add=num1+num2\n",
    "print(\"the addition of {} and {} is {}\".format(num1,num2,add))"
   ]
  },
  {
   "cell_type": "code",
   "execution_count": null,
   "id": "f10c141b-2f6f-44cf-bea8-92d864eac71a",
   "metadata": {},
   "outputs": [],
   "source": [
    "#WAP take two numbers perform the \n",
    "#sub,mult,div \n",
    "#print the statements as follows\n",
    "\n",
    "#the sub of 100 and 200 is -100\n",
    "#the mult of 100 and 200 is 20000\n",
    "#the division of 100 and 200 is 0.5"
   ]
  },
  {
   "cell_type": "code",
   "execution_count": 42,
   "id": "8cac696a-8794-4bdd-9646-6399a930ced7",
   "metadata": {},
   "outputs": [
    {
     "name": "stdout",
     "output_type": "stream",
     "text": [
      "the sub of 100 and 200 is -100\n",
      "the mult of 100 and 200 is 20000\n",
      "the div  of 100 and 200 is 0.5\n"
     ]
    }
   ],
   "source": [
    "num1=100\n",
    "num2=200\n",
    "sub=num1-num2\n",
    "mult=num1*num2\n",
    "div=num1/num2\n",
    "print(\"the sub of {} and {} is {}\".format(num1,num2,sub))\n",
    "print(\"the mult of {} and {} is {}\".format(num1,num2,mult))\n",
    "print(\"the div  of {} and {} is {}\".format(num1,num2,div))"
   ]
  },
  {
   "cell_type": "code",
   "execution_count": null,
   "id": "94b92f5e-312e-4f93-999b-97ac7910ec31",
   "metadata": {},
   "outputs": [],
   "source": [
    "#WAP take three numbers perform the average\n",
    "#a,b,c\n",
    "#avg=(a+b+c)/3\n",
    "#print the statement\n",
    "#the average of a,b,c is :avg"
   ]
  },
  {
   "cell_type": "code",
   "execution_count": 62,
   "id": "aeffa5bc-0197-41fb-9080-b2c62a8e0e04",
   "metadata": {},
   "outputs": [
    {
     "name": "stdout",
     "output_type": "stream",
     "text": [
      "the avg of a,b,c is : avg\n",
      "the avg of 10,10,10 is : 10.0\n"
     ]
    }
   ],
   "source": [
    "a=10\n",
    "b=10\n",
    "c=10\n",
    "avg=(a+b+c)/3\n",
    "print(\"the avg of a,b,c is : avg\")\n",
    "print(\"the avg of {},{},{} is : {}\".format(a,b,c,avg))"
   ]
  },
  {
   "cell_type": "code",
   "execution_count": 66,
   "id": "5510571b-83e4-4696-b16c-665cdcac6e23",
   "metadata": {},
   "outputs": [
    {
     "name": "stdout",
     "output_type": "stream",
     "text": [
      "the addition of 100 and 200 is 300\n",
      "======================================================\n",
      "the sub of 100 and 200 is -100\n",
      "======================================================\n",
      "the mult of 100 and 200 is 20000\n",
      "======================================================\n",
      "the div  of 100 and 200 is 0.5\n",
      "======================================================\n",
      "the avg of a,b,c is : avg\n",
      "the avg of 10,10,10 is : 10.0\n"
     ]
    }
   ],
   "source": [
    "num1=100\n",
    "num2=200\n",
    "add=num1+num2\n",
    "print(\"the addition of {} and {} is {}\".format(num1,num2,add))\n",
    "\n",
    "print(\"======================================================\")\n",
    "\n",
    "num1=100\n",
    "num2=200\n",
    "sub=num1-num2\n",
    "mult=num1*num2\n",
    "div=num1/num2\n",
    "print(\"the sub of {} and {} is {}\".format(num1,num2,sub))\n",
    "\n",
    "print(\"======================================================\")\n",
    "\n",
    "print(\"the mult of {} and {} is {}\".format(num1,num2,mult))\n",
    "\n",
    "print(\"======================================================\")\n",
    "\n",
    "print(\"the div  of {} and {} is {}\".format(num1,num2,div))\n",
    "\n",
    "print(\"======================================================\")\n",
    "\n",
    "a=10\n",
    "b=10\n",
    "c=10\n",
    "avg=(a+b+c)/3\n",
    "print(\"the avg of a,b,c is : avg\")\n",
    "(\"the avg of {},{},{} is : {}\".format(a,b,c,avg))"
   ]
  },
  {
   "cell_type": "markdown",
   "id": "ce642bc6-3474-45f7-b7e4-1f1242fdbf3d",
   "metadata": {},
   "source": [
    "**f string method:formatted string method**"
   ]
  },
  {
   "cell_type": "code",
   "execution_count": 17,
   "id": "c078c90c-4c9c-4e4c-be36-55238f540ed5",
   "metadata": {},
   "outputs": [
    {
     "name": "stdout",
     "output_type": "stream",
     "text": [
      "the addition of 100 and 200 is 300\n",
      "the addition of 100 and 200 is 300\n"
     ]
    }
   ],
   "source": [
    "num1=100\n",
    "num2=200\n",
    "add=num1+num2\n",
    "print(\"the addition of {} and {} is {}\".format(num1,num2,add))\n",
    "print(f\"the addition of {num1} and {num2} is {add}\") \n"
   ]
  },
  {
   "cell_type": "code",
   "execution_count": 77,
   "id": "f4ad57a5-bfbe-41fb-9fe3-2ae639e991e5",
   "metadata": {},
   "outputs": [
    {
     "name": "stdout",
     "output_type": "stream",
     "text": [
      "the addition of 100 and 200 is 300\n",
      "=======================addition===============================\n",
      "the sub of 100 and 200 is -100\n",
      "========================subtraction==============================\n",
      "the mult of 100 and 200 is 20000\n",
      "=========================multiplication=============================\n",
      "the div  of 100 and 200 is 0.5\n",
      "=========================division====================================\n",
      "the avg of a,b,c is : avg\n",
      "the avg of 10,10,10 is : 10.0\n"
     ]
    }
   ],
   "source": [
    "num1=100\n",
    "num2=200\n",
    "add=num1+num2\n",
    "print(f\"the addition of {num1} and {num2} is {add}\")\n",
    "\n",
    "print(\"=======================addition===============================\")\n",
    "\n",
    "num1=100\n",
    "num2=200\n",
    "sub=num1-num2\n",
    "print(f\"the sub of {num1} and {num2} is {sub}\")\n",
    "\n",
    "print(\"========================subtraction==============================\")\n",
    "\n",
    "num1=100\n",
    "num2=200\n",
    "mult=num1*num2\n",
    "print(f\"the mult of {num1} and {num2} is {mult}\")\n",
    "\n",
    "print(\"=========================multiplication=============================\")\n",
    "\n",
    "num1=100\n",
    "num2=200\n",
    "div=num1/num2\n",
    "print(f\"the div  of {num1} and {num2} is {div}\")\n",
    "\n",
    "print(\"=========================division====================================\")\n",
    "\n",
    "a=10\n",
    "b=10\n",
    "c=10\n",
    "avg=(a+b+c)/3\n",
    "print(\"the avg of a,b,c is : avg\")\n",
    "print(f\"the avg of {a},{b},{c} is : {avg}\")"
   ]
  },
  {
   "cell_type": "markdown",
   "id": "540d589c-8de7-4984-a53a-533e273b7df6",
   "metadata": {},
   "source": [
    "**Round**"
   ]
  },
  {
   "cell_type": "code",
   "execution_count": null,
   "id": "bf379f8f-f726-4e66-9002-fb7319332aca",
   "metadata": {},
   "outputs": [],
   "source": [
    "# print()\n",
    "# type()\n",
    "# int()\n",
    "# float()\n",
    "# str()\n",
    "# bool()\n",
    "# round()\n",
    "\n",
    "# ctrl+A\n",
    "# ctrl+/\n",
    "         "
   ]
  },
  {
   "cell_type": "code",
   "execution_count": 45,
   "id": "be391c25-4cb3-43c3-b6aa-37027384ef43",
   "metadata": {},
   "outputs": [
    {
     "name": "stdout",
     "output_type": "stream",
     "text": [
      "11\n",
      "10.78\n",
      "10.778\n"
     ]
    }
   ],
   "source": [
    "print(round(10.77777))\n",
    "print(round(10.77777,2))\n",
    "print(round(10.77777,3))"
   ]
  },
  {
   "cell_type": "code",
   "execution_count": 98,
   "id": "5aba0a24-c967-415c-b7dd-f66fb2b0a79b",
   "metadata": {},
   "outputs": [
    {
     "name": "stdout",
     "output_type": "stream",
     "text": [
      "10\n",
      "10.33\n"
     ]
    }
   ],
   "source": [
    "a=11\n",
    "b=10\n",
    "c=10\n",
    "avg=(a+b+c)/3\n",
    "print(round(avg))\n",
    "print(round(avg,2))"
   ]
  },
  {
   "cell_type": "markdown",
   "id": "9f177c3b-3fe1-4388-8112-6e56c6037463",
   "metadata": {},
   "source": [
    "**I have multiple print statemnets but i want to show in single line**"
   ]
  },
  {
   "cell_type": "markdown",
   "id": "3f7d3376-da1f-47f1-8a8c-ad2de0019de7",
   "metadata": {},
   "source": [
    "**end operator**"
   ]
  },
  {
   "cell_type": "code",
   "execution_count": 35,
   "id": "31c330a1-6cc2-48d6-9285-36a91c85170a",
   "metadata": {},
   "outputs": [
    {
     "name": "stdout",
     "output_type": "stream",
     "text": [
      "10\n",
      "20\n",
      "1020\n",
      "10 20\n",
      "10=====>20\n",
      "10 20 30\n"
     ]
    }
   ],
   "source": [
    "print(10)\n",
    "print(20)\n",
    "\n",
    "\n",
    "print(10, end=\"\")\n",
    "print(20)\n",
    "\n",
    "\n",
    "print(10, end=\" \")\n",
    "print(20)\n",
    "\n",
    "print(10, end=\"=====>\")\n",
    "print(20)\n",
    "\n",
    "\n",
    "print(10,end=\" \")\n",
    "print(20,end=\" \")\n",
    "print(30)"
   ]
  },
  {
   "cell_type": "code",
   "execution_count": 19,
   "id": "9eec2b9c-4741-467b-8f75-87d8c470e4aa",
   "metadata": {},
   "outputs": [
    {
     "name": "stdout",
     "output_type": "stream",
     "text": [
      "hello how are you\n"
     ]
    }
   ],
   "source": [
    "print('hello',end=\" \")\n",
    "print('how', end=\" \")\n",
    "print('are', end= \" \")\n",
    "print('you')"
   ]
  },
  {
   "cell_type": "markdown",
   "id": "e4034f14-1765-4f0c-9b15-8a8913c2c1c5",
   "metadata": {},
   "source": [
    "**I have multiple values in a single print statements**\n",
    "\n",
    "**I want to print them with some separation**"
   ]
  },
  {
   "cell_type": "code",
   "execution_count": 25,
   "id": "b42d85ab-864a-4f97-bd51-90b96ecfb0a9",
   "metadata": {},
   "outputs": [
    {
     "name": "stdout",
     "output_type": "stream",
     "text": [
      "10 20 30\n"
     ]
    }
   ],
   "source": [
    "print(10,20,30)\n",
    "#10===> 20===> 30"
   ]
  },
  {
   "cell_type": "markdown",
   "id": "57ca1414-4b0c-4ce4-9fad-66e247ad835e",
   "metadata": {},
   "source": [
    "**sep**"
   ]
  },
  {
   "cell_type": "code",
   "execution_count": 27,
   "id": "569cadb1-abbf-45b5-909e-29fef65bc192",
   "metadata": {},
   "outputs": [
    {
     "name": "stdout",
     "output_type": "stream",
     "text": [
      "102030\n",
      "10  20  30\n",
      "10====>20====>30\n"
     ]
    }
   ],
   "source": [
    "print(10,20,30,sep=\"\")\n",
    "print(10,20,30,sep=\"  \")\n",
    "print(10,20,30,sep=\"====>\")"
   ]
  },
  {
   "cell_type": "markdown",
   "id": "46a1812e-2dfb-4d41-af5a-f8312af21640",
   "metadata": {},
   "source": [
    "- basic print statement\n",
    "- format method\n",
    "- f string method\n",
    "- round\n",
    "- end operator\n",
    "- sep operator"
   ]
  },
  {
   "cell_type": "code",
   "execution_count": null,
   "id": "eb6042ea-301a-4eda-87d9-fcf385a0d502",
   "metadata": {},
   "outputs": [],
   "source": [
    "#wap take a radius of a circle calculate area of the circle\n",
    "#var: radius var:pi=3.14\n",
    "# formuale:pi*radius*radius\n",
    "#print the answers using f string snd format\n",
    "\n",
    "radius=120\n",
    "pi=3.14\n",
    "area=pi*radius*radius\n",
    "print(f\"area of the circle is: {area}\")\n",
    "print(\"area of the circle with radius {} and pi {} is : {} \".format(radius,pi,area))"
   ]
  },
  {
   "cell_type": "code",
   "execution_count": 12,
   "id": "6f7ef424-09d8-4d81-b2f5-62b4c81694ed",
   "metadata": {},
   "outputs": [
    {
     "name": "stdout",
     "output_type": "stream",
     "text": [
      "area of the triangle is: 20.0\n",
      "area of the traingle with breadth 10 and height 4 is : 20.0\n"
     ]
    }
   ],
   "source": [
    "#wap take the breadth and height of a right angle triangle\n",
    "#calculate the area\n",
    "#var1:breath var2:height\n",
    "#formuale:0.5*breadth*heightb=15\n",
    "b=10\n",
    "h=4\n",
    "a=0.5*b*h\n",
    "print(f\"area of the triangle is: {a}\")\n",
    "print(\"area of the traingle with breadth {} and height {} is : {}\".format(b,h,a))"
   ]
  },
  {
   "cell_type": "code",
   "execution_count": 10,
   "id": "cd6e9aa2-9ca2-4f02-855e-a40f2003d9b6",
   "metadata": {},
   "outputs": [
    {
     "name": "stdout",
     "output_type": "stream",
     "text": [
      "area of the rectangle is: 24\n",
      "area of the rectangle with length 8 and breadth 3  is : 24\n"
     ]
    }
   ],
   "source": [
    "#wap take the length and breadth of a rectangle calculate area\n",
    "#var1:lengthn var2:breadth\n",
    "#formuale:length *breadth\n",
    "\n",
    "l=8\n",
    "b=3\n",
    "a=l*b\n",
    "print(f\"area of the rectangle is: {a}\")\n",
    "print(\"area of the rectangle with length {} and breadth {}  is : {}\".format(l,b,a))"
   ]
  },
  {
   "cell_type": "code",
   "execution_count": 7,
   "id": "848fb1b6-473c-474c-9ed8-3b41aa544171",
   "metadata": {},
   "outputs": [
    {
     "name": "stdout",
     "output_type": "stream",
     "text": [
      "total bill is : 3650\n",
      "total bill with 3500 and 150 is : 3650\n"
     ]
    }
   ],
   "source": [
    "#wap take the bill amount and tip amount\n",
    "#calculate total bill\n",
    "#var1:bill amount var2:tip amount\n",
    "#formuale\n",
    "\n",
    "billamount=3500\n",
    "tipamount=150\n",
    "totalbill=billamount +tipamount\n",
    "print(f\"total bill is : {totalbill}\")\n",
    "print(\"total bill with {} and {} is : {}\".format(billamount,tipamount,totalbill))"
   ]
  },
  {
   "cell_type": "code",
   "execution_count": null,
   "id": "93f1e2c2-f1b6-4ee8-87a6-6cf07ce1fa6c",
   "metadata": {},
   "outputs": [],
   "source": []
  }
 ],
 "metadata": {
  "kernelspec": {
   "display_name": "Python [conda env:base] *",
   "language": "python",
   "name": "conda-base-py"
  },
  "language_info": {
   "codemirror_mode": {
    "name": "ipython",
    "version": 3
   },
   "file_extension": ".py",
   "mimetype": "text/x-python",
   "name": "python",
   "nbconvert_exporter": "python",
   "pygments_lexer": "ipython3",
   "version": "3.12.7"
  }
 },
 "nbformat": 4,
 "nbformat_minor": 5
}
